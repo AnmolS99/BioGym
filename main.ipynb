{
 "cells": [
  {
   "cell_type": "code",
   "execution_count": 1,
   "metadata": {},
   "outputs": [
    {
     "name": "stdout",
     "output_type": "stream",
     "text": [
      "action_raw: 278\n",
      "action: [ 8 15]\n",
      "action_raw: 108\n",
      "action: [0 6]\n"
     ]
    }
   ],
   "source": [
    "from bio_world import BioGymWorld\n",
    "\n",
    "env = BioGymWorld(render_mode=\"human\", grid_size = 20)\n",
    "\n",
    "env.action_space.sample()\n",
    "\n",
    "\n",
    "episodes = 1\n",
    "\n",
    "for i in range(1, episodes + 1):\n",
    "    state = env.reset()\n",
    "    done = False\n",
    "    score = 0\n",
    "    \n",
    "    timestep = 0\n",
    "\n",
    "    while not done and timestep < 10:\n",
    "        timestep += 1\n",
    "        action = env.action_space.sample()\n",
    "        print(\"action_raw: \" + str(action))\n",
    "        print(\"action: \" + str(env._action_to_coordinate(action)))\n",
    "        input()\n",
    "        n_state, reward, done, info = env.step(action)\n",
    "        score += reward\n",
    "env.close()"
   ]
  }
 ],
 "metadata": {
  "kernelspec": {
   "display_name": "Python 3.8.5 ('venv': venv)",
   "language": "python",
   "name": "python3"
  },
  "language_info": {
   "codemirror_mode": {
    "name": "ipython",
    "version": 3
   },
   "file_extension": ".py",
   "mimetype": "text/x-python",
   "name": "python",
   "nbconvert_exporter": "python",
   "pygments_lexer": "ipython3",
   "version": "3.8.5"
  },
  "orig_nbformat": 4,
  "vscode": {
   "interpreter": {
    "hash": "6667afc9f5c043670ac21182dca02ea594a90f729688ff0e973fdf44317968e8"
   }
  }
 },
 "nbformat": 4,
 "nbformat_minor": 2
}
