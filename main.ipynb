{
 "cells": [
  {
   "cell_type": "code",
   "execution_count": 1,
   "metadata": {},
   "outputs": [
    {
     "ename": "KeyboardInterrupt",
     "evalue": "",
     "output_type": "error",
     "traceback": [
      "\u001b[0;31m---------------------------------------------------------------------------\u001b[0m",
      "\u001b[0;31mKeyboardInterrupt\u001b[0m                         Traceback (most recent call last)",
      "Cell \u001b[0;32mIn [1], line 19\u001b[0m\n\u001b[1;32m     17\u001b[0m         \u001b[39m#action = env.action_space.sample()\u001b[39;00m\n\u001b[1;32m     18\u001b[0m         action \u001b[39m=\u001b[39m \u001b[39m0\u001b[39m\n\u001b[0;32m---> 19\u001b[0m         n_state, reward, done, info \u001b[39m=\u001b[39m env\u001b[39m.\u001b[39mstep(action)\n\u001b[1;32m     20\u001b[0m         score \u001b[39m+\u001b[39m\u001b[39m=\u001b[39m reward\n\u001b[1;32m     21\u001b[0m env\u001b[39m.\u001b[39mclose()\n",
      "File \u001b[0;32m~/Library/CloudStorage/OneDrive-NTNU/h22/Fordypningsprosjekt/BioGym/bio_world.py:77\u001b[0m, in \u001b[0;36mBioGymWorld.step\u001b[0;34m(self, action)\u001b[0m\n\u001b[1;32m     74\u001b[0m observations \u001b[39m=\u001b[39m \u001b[39mself\u001b[39m\u001b[39m.\u001b[39m_get_obs()\n\u001b[1;32m     75\u001b[0m info \u001b[39m=\u001b[39m \u001b[39mself\u001b[39m\u001b[39m.\u001b[39m_get_info()\n\u001b[0;32m---> 77\u001b[0m \u001b[39mself\u001b[39;49m\u001b[39m.\u001b[39;49mrender()\n\u001b[1;32m     79\u001b[0m \u001b[39mreturn\u001b[39;00m observations, reward, terminated, info\n",
      "File \u001b[0;32m~/Library/CloudStorage/OneDrive-NTNU/h22/Fordypningsprosjekt/BioGym/bio_world.py:84\u001b[0m, in \u001b[0;36mBioGymWorld.render\u001b[0;34m(self)\u001b[0m\n\u001b[1;32m     82\u001b[0m obs \u001b[39m=\u001b[39m \u001b[39mself\u001b[39m\u001b[39m.\u001b[39m_get_obs()\n\u001b[1;32m     83\u001b[0m prot_units \u001b[39m=\u001b[39m \u001b[39mself\u001b[39m\u001b[39m.\u001b[39mprotection_units\n\u001b[0;32m---> 84\u001b[0m \u001b[39mreturn\u001b[39;00m \u001b[39mself\u001b[39;49m\u001b[39m.\u001b[39;49mrenderer\u001b[39m.\u001b[39;49mrender(obs, prot_units)\n",
      "File \u001b[0;32m~/Library/CloudStorage/OneDrive-NTNU/h22/Fordypningsprosjekt/BioGym/renderer.py:32\u001b[0m, in \u001b[0;36mRenderer.render\u001b[0;34m(self, obs, prot_units)\u001b[0m\n\u001b[1;32m     30\u001b[0m \u001b[39mdef\u001b[39;00m \u001b[39mrender\u001b[39m(\u001b[39mself\u001b[39m, obs, prot_units):\n\u001b[1;32m     31\u001b[0m     \u001b[39mif\u001b[39;00m \u001b[39mself\u001b[39m\u001b[39m.\u001b[39mrender_mode \u001b[39m==\u001b[39m \u001b[39m\"\u001b[39m\u001b[39mhuman\u001b[39m\u001b[39m\"\u001b[39m:\n\u001b[0;32m---> 32\u001b[0m         \u001b[39mreturn\u001b[39;00m \u001b[39mself\u001b[39;49m\u001b[39m.\u001b[39;49m_render_frame(obs, prot_units)\n",
      "File \u001b[0;32m~/Library/CloudStorage/OneDrive-NTNU/h22/Fordypningsprosjekt/BioGym/renderer.py:180\u001b[0m, in \u001b[0;36mRenderer._render_frame\u001b[0;34m(self, obs, prot_units)\u001b[0m\n\u001b[1;32m    176\u001b[0m     pygame\u001b[39m.\u001b[39mdisplay\u001b[39m.\u001b[39mupdate()\n\u001b[1;32m    178\u001b[0m     \u001b[39m# We need to ensure that human-rendering occurs at the predefined framerate.\u001b[39;00m\n\u001b[1;32m    179\u001b[0m     \u001b[39m# The following line will automaticaly add a delay to keep the framerate stable\u001b[39;00m\n\u001b[0;32m--> 180\u001b[0m     \u001b[39mself\u001b[39;49m\u001b[39m.\u001b[39;49mclock\u001b[39m.\u001b[39;49mtick(\u001b[39mself\u001b[39;49m\u001b[39m.\u001b[39;49mmetadata[\u001b[39m\"\u001b[39;49m\u001b[39mrender_fps\u001b[39;49m\u001b[39m\"\u001b[39;49m])\n\u001b[1;32m    181\u001b[0m \u001b[39melse\u001b[39;00m:  \u001b[39m# rgb_array\u001b[39;00m\n\u001b[1;32m    182\u001b[0m     \u001b[39mreturn\u001b[39;00m np\u001b[39m.\u001b[39mtranspose(np\u001b[39m.\u001b[39marray(pygame\u001b[39m.\u001b[39msurfarray\u001b[39m.\u001b[39mpixels3d(canvas)),\n\u001b[1;32m    183\u001b[0m                         axes\u001b[39m=\u001b[39m(\u001b[39m1\u001b[39m, \u001b[39m0\u001b[39m, \u001b[39m2\u001b[39m))\n",
      "\u001b[0;31mKeyboardInterrupt\u001b[0m: "
     ]
    },
    {
     "ename": "",
     "evalue": "",
     "output_type": "error",
     "traceback": [
      "\u001b[1;31mThe Kernel crashed while executing code in the the current cell or a previous cell. Please review the code in the cell(s) to identify a possible cause of the failure. Click <a href='https://aka.ms/vscodeJupyterKernelCrash'>here</a> for more info. View Jupyter <a href='command:jupyter.viewOutput'>log</a> for further details."
     ]
    }
   ],
   "source": [
    "from bio_world import BioGymWorld\n",
    "\n",
    "env = BioGymWorld(render_mode=\"human\", grid_size = 5, sim_height=300, num_species = 3)\n",
    "\n",
    "\n",
    "episodes = 1\n",
    "\n",
    "for i in range(1, episodes + 1):\n",
    "    state = env.reset()\n",
    "    done = False\n",
    "    score = 0\n",
    "    \n",
    "    timestep = 0\n",
    "\n",
    "    while not done and timestep < 100:\n",
    "        timestep += 1\n",
    "        #action = env.action_space.sample()\n",
    "        action = 0\n",
    "        n_state, reward, done, info = env.step(action)\n",
    "        score += reward\n",
    "env.close()"
   ]
  }
 ],
 "metadata": {
  "kernelspec": {
   "display_name": "venv",
   "language": "python",
   "name": "python3"
  },
  "language_info": {
   "codemirror_mode": {
    "name": "ipython",
    "version": 3
   },
   "file_extension": ".py",
   "mimetype": "text/x-python",
   "name": "python",
   "nbconvert_exporter": "python",
   "pygments_lexer": "ipython3",
   "version": "3.8.5 (default, Feb 12 2022, 14:13:39) \n[Clang 13.0.0 (clang-1300.0.29.30)]"
  },
  "orig_nbformat": 4,
  "vscode": {
   "interpreter": {
    "hash": "2d11245d7b4b6fc109efda18ca9e5060bf58908508e4cda6a594282ae9e44dfc"
   }
  }
 },
 "nbformat": 4,
 "nbformat_minor": 2
}
