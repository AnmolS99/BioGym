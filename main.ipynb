{
 "cells": [
  {
   "cell_type": "code",
   "execution_count": 1,
   "metadata": {},
   "outputs": [
    {
     "ename": "KeyboardInterrupt",
     "evalue": "",
     "output_type": "error",
     "traceback": [
      "\u001b[0;31m---------------------------------------------------------------------------\u001b[0m",
      "\u001b[0;31mKeyboardInterrupt\u001b[0m                         Traceback (most recent call last)",
      "Cell \u001b[0;32mIn [1], line 18\u001b[0m\n\u001b[1;32m     16\u001b[0m         timestep \u001b[39m+\u001b[39m\u001b[39m=\u001b[39m \u001b[39m1\u001b[39m\n\u001b[1;32m     17\u001b[0m         action \u001b[39m=\u001b[39m env\u001b[39m.\u001b[39maction_space\u001b[39m.\u001b[39msample()\n\u001b[0;32m---> 18\u001b[0m         n_state, reward, done, info \u001b[39m=\u001b[39m env\u001b[39m.\u001b[39mstep(action)\n\u001b[1;32m     19\u001b[0m         score \u001b[39m+\u001b[39m\u001b[39m=\u001b[39m reward\n\u001b[1;32m     20\u001b[0m env\u001b[39m.\u001b[39mclose()\n",
      "File \u001b[0;32m~/OneDrive - NTNU/h22/Fordypningsprosjekt/BioGym/bio_world.py:89\u001b[0m, in \u001b[0;36mBioGymWorld.step\u001b[0;34m(self, action)\u001b[0m\n\u001b[1;32m     86\u001b[0m observations \u001b[39m=\u001b[39m \u001b[39mself\u001b[39m\u001b[39m.\u001b[39m_get_obs()\n\u001b[1;32m     87\u001b[0m info \u001b[39m=\u001b[39m \u001b[39mself\u001b[39m\u001b[39m.\u001b[39m_get_info()\n\u001b[0;32m---> 89\u001b[0m \u001b[39mself\u001b[39;49m\u001b[39m.\u001b[39;49mrender()\n\u001b[1;32m     91\u001b[0m \u001b[39mreturn\u001b[39;00m observations, reward, terminated, info\n",
      "File \u001b[0;32m~/OneDrive - NTNU/h22/Fordypningsprosjekt/BioGym/bio_world.py:96\u001b[0m, in \u001b[0;36mBioGymWorld.render\u001b[0;34m(self)\u001b[0m\n\u001b[1;32m     94\u001b[0m obs \u001b[39m=\u001b[39m \u001b[39mself\u001b[39m\u001b[39m.\u001b[39m_get_obs()\n\u001b[1;32m     95\u001b[0m prot_units \u001b[39m=\u001b[39m \u001b[39mself\u001b[39m\u001b[39m.\u001b[39mprotection_units\n\u001b[0;32m---> 96\u001b[0m \u001b[39mreturn\u001b[39;00m \u001b[39mself\u001b[39;49m\u001b[39m.\u001b[39;49mrenderer\u001b[39m.\u001b[39;49mrender(obs, prot_units)\n",
      "File \u001b[0;32m~/OneDrive - NTNU/h22/Fordypningsprosjekt/BioGym/renderer.py:32\u001b[0m, in \u001b[0;36mRenderer.render\u001b[0;34m(self, obs, prot_units)\u001b[0m\n\u001b[1;32m     30\u001b[0m \u001b[39mdef\u001b[39;00m \u001b[39mrender\u001b[39m(\u001b[39mself\u001b[39m, obs, prot_units):\n\u001b[1;32m     31\u001b[0m     \u001b[39mif\u001b[39;00m \u001b[39mself\u001b[39m\u001b[39m.\u001b[39mrender_mode \u001b[39m==\u001b[39m \u001b[39m\"\u001b[39m\u001b[39mhuman\u001b[39m\u001b[39m\"\u001b[39m:\n\u001b[0;32m---> 32\u001b[0m         \u001b[39mreturn\u001b[39;00m \u001b[39mself\u001b[39;49m\u001b[39m.\u001b[39;49m_render_frame(obs, prot_units)\n",
      "File \u001b[0;32m~/OneDrive - NTNU/h22/Fordypningsprosjekt/BioGym/renderer.py:175\u001b[0m, in \u001b[0;36mRenderer._render_frame\u001b[0;34m(self, obs, prot_units)\u001b[0m\n\u001b[1;32m    171\u001b[0m     pygame\u001b[39m.\u001b[39mdisplay\u001b[39m.\u001b[39mupdate()\n\u001b[1;32m    173\u001b[0m     \u001b[39m# We need to ensure that human-rendering occurs at the predefined framerate.\u001b[39;00m\n\u001b[1;32m    174\u001b[0m     \u001b[39m# The following line will automaticaly add a delay to keep the framerate stable\u001b[39;00m\n\u001b[0;32m--> 175\u001b[0m     \u001b[39mself\u001b[39;49m\u001b[39m.\u001b[39;49mclock\u001b[39m.\u001b[39;49mtick(\u001b[39mself\u001b[39;49m\u001b[39m.\u001b[39;49mmetadata[\u001b[39m\"\u001b[39;49m\u001b[39mrender_fps\u001b[39;49m\u001b[39m\"\u001b[39;49m])\n\u001b[1;32m    176\u001b[0m \u001b[39melse\u001b[39;00m:  \u001b[39m# rgb_array\u001b[39;00m\n\u001b[1;32m    177\u001b[0m     \u001b[39mreturn\u001b[39;00m np\u001b[39m.\u001b[39mtranspose(np\u001b[39m.\u001b[39marray(pygame\u001b[39m.\u001b[39msurfarray\u001b[39m.\u001b[39mpixels3d(canvas)),\n\u001b[1;32m    178\u001b[0m                         axes\u001b[39m=\u001b[39m(\u001b[39m1\u001b[39m, \u001b[39m0\u001b[39m, \u001b[39m2\u001b[39m))\n",
      "\u001b[0;31mKeyboardInterrupt\u001b[0m: "
     ]
    }
   ],
   "source": [
    "from bio_world import BioGymWorld\n",
    "\n",
    "env = BioGymWorld(render_mode=\"human\", grid_size = 5, sim_height=300, num_species = 2)\n",
    "\n",
    "\n",
    "episodes = 1\n",
    "\n",
    "for i in range(1, episodes + 1):\n",
    "    state = env.reset()\n",
    "    done = False\n",
    "    score = 0\n",
    "    \n",
    "    timestep = 0\n",
    "\n",
    "    while not done and timestep < 100:\n",
    "        timestep += 1\n",
    "        action = env.action_space.sample()\n",
    "        n_state, reward, done, info = env.step(action)\n",
    "        score += reward\n",
    "env.close()"
   ]
  }
 ],
 "metadata": {
  "kernelspec": {
   "display_name": "Python 3.8.5 ('venv': venv)",
   "language": "python",
   "name": "python3"
  },
  "language_info": {
   "codemirror_mode": {
    "name": "ipython",
    "version": 3
   },
   "file_extension": ".py",
   "mimetype": "text/x-python",
   "name": "python",
   "nbconvert_exporter": "python",
   "pygments_lexer": "ipython3",
   "version": "3.8.5"
  },
  "orig_nbformat": 4,
  "vscode": {
   "interpreter": {
    "hash": "6667afc9f5c043670ac21182dca02ea594a90f729688ff0e973fdf44317968e8"
   }
  }
 },
 "nbformat": 4,
 "nbformat_minor": 2
}
